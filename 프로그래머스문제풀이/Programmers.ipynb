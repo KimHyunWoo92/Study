{
 "cells": [
  {
   "cell_type": "markdown",
   "metadata": {},
   "source": [
    "## 프로그래머스 개인 문제 풀이 및 해설"
   ]
  },
  {
   "cell_type": "code",
   "execution_count": null,
   "metadata": {},
   "outputs": [],
   "source": [
    "#PCCE 기출 9번 lv.1\n",
    "# wallet = [30,15] , bill = [26,17]\n",
    "# 지폐 큰쪽을 기준으로 접은뒤 돌려서 지갑에 넣으면 된다.\n",
    "# 소수점은 버린다.\n",
    "# 몇번만에 지갑에 들어갈 수 있는지 answer에 표시\n",
    "wallet = [30,15]\n",
    "bill = [26,17]\n",
    "\n",
    "def solution(wallet,bill):\n",
    "    answer = 0\n",
    "\n",
    "    # 지폐도 큰 면, 지갑도 큰 면을 기준으로 들어갈 수 있는 지 판단하므로 정렬\n",
    "    wallet.sort(reverse=True)\n",
    "    bill.sort(reverse=True)\n",
    "    \n",
    "    #몇번의 시행착오를 거처야하는지 모르기떄문에 while문으로\n",
    "    while True:\n",
    "        # 큰면을 기준으로 접기때문에, 0번을 반으로 줄여주고, 소수점을 버린다.\n",
    "        if bill[0] > wallet[0] or bill[1] > wallet[1]:\n",
    "            bill[0] //= 2\n",
    "            # 넓은면을 기준으로 접고, 다시 재 정렬하여 큰값을 0번에 위치\n",
    "            bill.sort(reverse=True)\n",
    "            # 접을때마다 횟수를 더해준다.\n",
    "            answer += 1\n",
    "        else:\n",
    "            break\n",
    "    return answer\n",
    "\n",
    "\n"
   ]
  }
 ],
 "metadata": {
  "kernelspec": {
   "display_name": "base",
   "language": "python",
   "name": "python3"
  },
  "language_info": {
   "name": "python",
   "version": "3.11.7"
  }
 },
 "nbformat": 4,
 "nbformat_minor": 2
}
