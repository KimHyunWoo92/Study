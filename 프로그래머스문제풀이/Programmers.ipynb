{
 "cells": [
  {
   "cell_type": "markdown",
   "metadata": {},
   "source": [
    "## 프로그래머스 개인 문제 풀이 및 해설"
   ]
  },
  {
   "cell_type": "code",
   "execution_count": null,
   "metadata": {},
   "outputs": [],
   "source": [
    "#PCCE 기출 9번 lv.1\n",
    "# wallet = [30,15] , bill = [26,17]\n",
    "# 지폐 큰쪽을 기준으로 접은뒤 돌려서 지갑에 넣으면 된다.\n",
    "# 소수점은 버린다.\n",
    "# 몇번만에 지갑에 들어갈 수 있는지 answer에 표시\n",
    "wallet = [30,15]\n",
    "bill = [26,17]\n",
    "\n",
    "def solution(wallet,bill):\n",
    "    answer = 0\n",
    "\n",
    "    # 지폐도 큰 면, 지갑도 큰 면을 기준으로 들어갈 수 있는 지 판단하므로 정렬\n",
    "    wallet.sort(reverse=True)\n",
    "    bill.sort(reverse=True)\n",
    "    \n",
    "    #몇번의 시행착오를 거처야하는지 모르기떄문에 while문으로\n",
    "    while True:\n",
    "        # 큰면을 기준으로 접기때문에, 0번을 반으로 줄여주고, 소수점을 버린다.\n",
    "        if bill[0] > wallet[0] or bill[1] > wallet[1]:\n",
    "            bill[0] //= 2\n",
    "            # 넓은면을 기준으로 접고, 다시 재 정렬하여 큰값을 0번에 위치\n",
    "            bill.sort(reverse=True)\n",
    "            # 접을때마다 횟수를 더해준다.\n",
    "            answer += 1\n",
    "        else:\n",
    "            break\n",
    "    return answer\n",
    "\n",
    "\n"
   ]
  },
  {
   "cell_type": "code",
   "execution_count": null,
   "metadata": {},
   "outputs": [],
   "source": [
    "#PCCP 기출문제 1번 동영상 재생기\n",
    "# 동영상 재생기 기능은 10초 뒤로가기, 10초 앞으로가기, 오프닝건너뛰기\n",
    "# video_len 전체길이, pos 현재 위치, op_start 오프닝 시작, op_end 오프닝 끝\n",
    "# command는 prev, next 두가지\n",
    "# 문자열 형태로 return \"mm:ss\" ex)5초이면, 00:05\n",
    "\n",
    "video_len = \"34:33\"\n",
    "pos = \"13:00\"\n",
    "op_start = \"00:55\"\n",
    "op_end = \"02:55\"\n",
    "commands = [\"next\",\"prev\"]\n",
    "\n",
    "def solution(video_len,pos,op_start,op_end,commands):\n",
    "    # 각 길이나 위치를 초로 변경\n",
    "    ss_total = int(video_len.split(\":\")[0])*60 + int(video_len.split(\":\")[1])\n",
    "    s_pos = int(pos.split(\":\")[0])*60 + int(pos.split(\":\")[1])\n",
    "    s_st = int(op_start.split(\":\")[0])*60 + int(op_start.split(\":\")[1])\n",
    "    s_end = int(op_end.split(\":\")[0])*60 + int(op_end.split(\":\")[1])\n",
    "\n",
    "    # 시작위치가 오프닝 시작과 끝지점 안에있는경우 끝지점으로 이동\n",
    "    if s_st <= s_pos <= s_end:\n",
    "        s_pos = s_end\n",
    "    \n",
    "    # commands에 따른 이동\n",
    "    for i in commands:\n",
    "        # 10초 앞으로\n",
    "        if i == \"next\":\n",
    "            s_pos += 10\n",
    "            # 앞으로 갔을때, 전체 길이를 못 넘기 때문에, 전체길이의 마지막에 위치\n",
    "            if ss_total - s_pos <10:\n",
    "                s_pos = ss_total\n",
    "        else:\n",
    "            s_pos -= 10\n",
    "            # 뒤로 10초 갔을때, 10보다 작은경우 시작위치\n",
    "            if s_pos <10:\n",
    "                s_pos = 0\n",
    "        # 앞으로 또는 뒤로 갔을때, 위치가 오프닝 사이라면, 오프닝끝으로 이동\n",
    "        if s_st <= s_pos <= s_end:\n",
    "            s_pos = s_end\n",
    "    # \"mm:ss\" 형식으로 출력하기위해 문자열 포맷팅 활용\n",
    "    answer = \"%02d:%02d\" % (int(s_pos/60),int(s_pos%60))\n",
    "    \n",
    "    return answer\n",
    "        "
   ]
  }
 ],
 "metadata": {
  "kernelspec": {
   "display_name": "base",
   "language": "python",
   "name": "python3"
  },
  "language_info": {
   "name": "python",
   "version": "3.11.7"
  }
 },
 "nbformat": 4,
 "nbformat_minor": 2
}
